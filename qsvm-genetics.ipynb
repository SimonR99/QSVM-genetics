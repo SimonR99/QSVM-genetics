{
  "cells": [
    {
      "cell_type": "markdown",
      "metadata": {
        "id": "view-in-github",
        "colab_type": "text"
      },
      "source": [
        "<a href=\"https://colab.research.google.com/github/SimonR99/QSVM-genetics/blob/main/qsvm-genetics.ipynb\" target=\"_parent\"><img src=\"https://colab.research.google.com/assets/colab-badge.svg\" alt=\"Open In Colab\"/></a>"
      ]
    },
    {
      "cell_type": "code",
      "execution_count": null,
      "metadata": {
        "cell_id": "bba4c43a705d4d2f80a488318376f8b8",
        "deepnote_cell_type": "code",
        "deepnote_to_be_reexecuted": false,
        "execution_millis": 34982,
        "execution_start": 1658434717771,
        "is_output_hidden": true,
        "source_hash": "96be728d",
        "tags": [],
        "id": "TPcaeCf-78Gb"
      },
      "outputs": [],
      "source": [
        "!pip install qiskit==0.37.0\n",
        "!pip install pylatexenc==2.10\n",
        "!pip install qiskit_machine_learning==0.4.0\n",
        "!pip install pymoo==0.5.0"
      ]
    },
    {
      "cell_type": "markdown",
      "metadata": {
        "cell_id": "65dd9dacbef84a70b78380c30d622703",
        "deepnote_cell_height": 374,
        "deepnote_cell_type": "markdown",
        "tags": [],
        "id": "aCt1n7bF78Gd"
      },
      "source": [
        "# Support Vector Machines using Quantum Kernel\n",
        "\n",
        "SVMs, or \"Support-vector machines\", are used for many artificial intelligence tasks because they don't require a lot of computational power to achieve acceptable results. To classify data, the algorithm uses kernels to indicate how data should be distributed in a space. Among other things, it's possible to choose a linear kernel. This simply draws a line and separates the data into two groups. It's also possible to use more complex kernels, such as polynomial kernels. These are generally more efficient but take longer to compute. SVMs are interesting in the era of quantum computing since, for certain types of data, a quantum kernel can provide a significant speed-up. Of course, the speed-up only occurs for certain types of data that require complex kernels. (A linear kernel will remain faster). In some cases, it's even possible to achieve better prediction accuracy since one can convert into a space that is not classically accessible."
      ]
    },
    {
      "cell_type": "markdown",
      "metadata": {
        "cell_id": "fd8758b0771a45c8b6c84680b8f8c577",
        "deepnote_cell_height": 196.8000030517578,
        "deepnote_cell_type": "markdown",
        "tags": [],
        "id": "g1gHh6Mj78Ge"
      },
      "source": [
        "# Classification of the \"Iris datasets\" data\n",
        "\n",
        "To provide us with a comparison point that's simpler than a dataset from language processing, this will prevent the main issue from being dimensionality reduction.\n",
        "\n",
        "## Importing the libraries"
      ]
    },
    {
      "cell_type": "code",
      "execution_count": 2,
      "metadata": {
        "cell_id": "5c5d8cb864c245e39b73a3cb6f467c45",
        "deepnote_cell_type": "code",
        "deepnote_to_be_reexecuted": false,
        "execution_millis": 5356,
        "execution_start": 1658434752779,
        "source_hash": "60fbf364",
        "tags": [],
        "id": "tMGETRtz78Ge"
      },
      "outputs": [],
      "source": [
        "# General Imports\n",
        "import numpy as np\n",
        "import pandas as pd\n",
        "import math as math\n",
        "\n",
        "# Visualisation Imports\n",
        "import matplotlib.pyplot as plt\n",
        "\n",
        "# Scikit Imports\n",
        "from sklearn import datasets, model_selection, naive_bayes\n",
        "from sklearn.model_selection import train_test_split\n",
        "from sklearn.svm import SVC\n",
        "from sklearn.decomposition import PCA\n",
        "from sklearn.preprocessing import StandardScaler, MinMaxScaler\n",
        "from sklearn.metrics import accuracy_score\n",
        "from sklearn.metrics import f1_score\n",
        "\n",
        "# Qiskit Imports\n",
        "from qiskit import Aer, execute\n",
        "from qiskit.circuit import QuantumCircuit, Parameter, ParameterVector, QuantumRegister\n",
        "from qiskit.circuit.library import PauliFeatureMap, ZFeatureMap, ZZFeatureMap\n",
        "from qiskit.circuit.library import TwoLocal, NLocal, RealAmplitudes, EfficientSU2\n",
        "from qiskit.circuit.library import HGate, RXGate, RYGate, RZGate, CXGate, CRXGate, CRZGate, IGate\n",
        "from qiskit_machine_learning.kernels import QuantumKernel\n",
        "\n",
        "\n",
        "# NLP Imports\n",
        "import nltk\n",
        "from nltk.tokenize import word_tokenize\n",
        "from nltk import pos_tag\n",
        "from nltk.corpus import stopwords\n",
        "from nltk.stem import WordNetLemmatizer\n",
        "from sklearn.preprocessing import LabelEncoder\n",
        "from collections import defaultdict\n",
        "from nltk.corpus import wordnet as wn\n",
        "from sklearn.feature_extraction.text import TfidfVectorizer"
      ]
    },
    {
      "cell_type": "code",
      "execution_count": 3,
      "metadata": {
        "cell_id": "4911670eb2b14c57be616d862b82e3af",
        "deepnote_cell_type": "code",
        "deepnote_to_be_reexecuted": false,
        "execution_millis": 1,
        "execution_start": 1658434758135,
        "source_hash": "a557ffa9",
        "tags": [],
        "id": "DmAr_hdD78Gf"
      },
      "outputs": [],
      "source": [
        "# Produce the same result every time:\n",
        "np.random.seed(500)"
      ]
    },
    {
      "cell_type": "markdown",
      "metadata": {
        "cell_id": "1555cdb5dc7b4a5bb384411f2a60be23",
        "deepnote_cell_height": 130.8000030517578,
        "deepnote_cell_type": "markdown",
        "tags": [],
        "id": "Laj3gPc-78Gf"
      },
      "source": [
        "## Division des données\n",
        "\n",
        "Pour réduire le temps de calcul, seulement 2 attributs (dimension) sont utilisés pour faire les comparaisons. Les données sont séparées en deux groupes pour pouvoir faire des tests avec des données jamais vues par l'algorithme auparavant."
      ]
    },
    {
      "cell_type": "code",
      "execution_count": 4,
      "metadata": {
        "cell_id": "ac1c33513a7c452883497561a7e2748a",
        "deepnote_cell_type": "code",
        "deepnote_to_be_reexecuted": false,
        "execution_millis": 46,
        "execution_start": 1658434758141,
        "source_hash": "1f00ac6d",
        "tags": [],
        "id": "CUhaTAYX78Gf"
      },
      "outputs": [],
      "source": [
        "# Number of dimensions used\n",
        "n_dim = 2\n",
        "\n",
        "# The ratio must be equal to 1.\n",
        "train_size=0.5\n",
        "gene_size = 0.25\n",
        "test_size = 0.25\n",
        "\n",
        "iris = datasets.load_iris()\n",
        "X = iris.data[:, :n_dim]\n",
        "y = iris.target\n",
        "# Do not train the genetic model with all the test data; keep some to validate later that the found feature map works for unseen data.\n",
        "sample_train, sample_temp, label_train, label_temp = model_selection.train_test_split(X, y, train_size=train_size, test_size=1-train_size, random_state=110)\n",
        "sample_gene, sample_test, label_gene, label_test = model_selection.train_test_split(sample_temp, label_temp, train_size=gene_size/(gene_size+test_size), test_size=test_size/(gene_size+test_size), random_state=110)"
      ]
    },
    {
      "cell_type": "markdown",
      "metadata": {
        "cell_id": "61bc9423126d4622a45caba5b02e6434",
        "deepnote_cell_height": 70,
        "deepnote_cell_type": "markdown",
        "tags": [],
        "id": "292iQHId78Gf"
      },
      "source": [
        "## Traitement des données"
      ]
    },
    {
      "cell_type": "code",
      "execution_count": 5,
      "metadata": {
        "cell_id": "5218259de6dc49a69eb143c159b87e65",
        "deepnote_cell_type": "code",
        "deepnote_to_be_reexecuted": false,
        "execution_millis": 0,
        "execution_start": 1658434758238,
        "source_hash": "1859952e",
        "tags": [],
        "id": "1TYxHhfo78Gg"
      },
      "outputs": [],
      "source": [
        "# Normalisations\n",
        "std_scale = StandardScaler().fit(sample_train)\n",
        "sample_train = std_scale.transform(sample_train)\n",
        "sample_gene = std_scale.transform(sample_gene)\n",
        "sample_test = std_scale.transform(sample_test)\n",
        "\n",
        "# Size adjustement\n",
        "samples = np.append(sample_train, sample_test, axis=0)\n",
        "minmax_scale = MinMaxScaler((-1, 1)).fit(samples)\n",
        "sample_train = minmax_scale.transform(sample_train)\n",
        "sample_gene = minmax_scale.transform(sample_gene)\n",
        "sample_test = minmax_scale.transform(sample_test)"
      ]
    },
    {
      "cell_type": "markdown",
      "metadata": {
        "cell_id": "f86724332667439f9f81bc00d73c105e",
        "deepnote_cell_height": 780.7999877929688,
        "deepnote_cell_type": "markdown",
        "tags": [],
        "id": "c3o86obH78Gg"
      },
      "source": [
        "## Creation of the Quantum \"Feature Map\"\n",
        "\n",
        "The quantum \"feature map\" is an oracle that serves as a kernel (using a callback method) and will eventually be passed as a parameter to the classic SVM. The choice of this type of quantum \"feature map\" comes from the fact that it is more challenging to obtain classically. Thus, if we want to reproduce this type of kernel classically, the quantum version would be faster.\n",
        "\n",
        "The following function allows converting a bit string into quantum gates. Each sequence of five bits corresponds to a gate. This function will be passed as a parameter to the genetic algorithm to build the circuits.\n",
        "\n",
        "The first three bits indicate if the gate is fixed (Hadamar, Pauli, CNOT, ...) or if it is parameterized according to the inputs (Ry, Rx, ...). When the gate is parameterized, the last two bits of the five-bit sequence are used as the proportionality constant of the angle encoding equation.\n",
        "\n",
        "### Here is the conversion table of the gates used:\n",
        "\n",
        "\n",
        "| Code | Gate | Note                                                                 |\n",
        "|------|------|----------------------------------------------------------------------|\n",
        "| 000  | H    | Hadamar                                                              |\n",
        "| 001  | CNOT | The control bit is the current qubit, and the controlled qubit is the next one. |\n",
        "| 010  | I    | No gate (identity)                                                   |\n",
        "| 011  | Rx   | Rotation on the x-axis                                               |\n",
        "| 100  | Rz   | Rotation on the z-axis                                               |\n",
        "| 101  | I    | No gate (identity)                                                   |\n",
        "| 110  | I    | No gate (identity)                                                   |\n",
        "| 111  | Ry   | Rotation on the y-axis                                               |\n",
        "\n",
        "\n",
        "\n",
        "\n",
        "### Here is the conversion table of the angles used:\n",
        "\n",
        "| Code | Rotation |\n",
        "|------|----------|\n",
        "| 00   | pi       |\n",
        "| 01   | pi/2     |\n",
        "| 10   | pi/4     |\n",
        "| 11   | pi/8     |\n"
      ]
    },
    {
      "cell_type": "code",
      "execution_count": 6,
      "metadata": {
        "cell_id": "3d23de1e9d7b4cf0a9e949a0a44ed958",
        "deepnote_cell_type": "code",
        "deepnote_to_be_reexecuted": false,
        "execution_millis": 1,
        "execution_start": 1658434758276,
        "source_hash": "97da5dca",
        "tags": [],
        "id": "t3UojE-L78Gg"
      },
      "outputs": [],
      "source": [
        "def create_circuit_from_bit_string(quantum_circuit, values, bitstring, num_dimensions):\n",
        "    num_qubits = quantum_circuit.num_qubits\n",
        "    gate_lenght = 5\n",
        "    string_gates = [bitstring[i:i+gate_lenght] for i in range(0, len(bitstring), gate_lenght)]\n",
        "    has_cnot = False\n",
        "    angle_index = 0\n",
        "    for gate_number in range(0, len(string_gates)):\n",
        "        index_qubit = gate_number % num_qubits\n",
        "        index_parameter = gate_number % num_dimensions\n",
        "        gate_string = string_gates[gate_number]\n",
        "        gate_type = gate_string[0:3]\n",
        "        angle_type = gate_string[4:]\n",
        "\n",
        "        if angle_type == '00':\n",
        "            angle = math.pi\n",
        "        elif angle_type == '01':\n",
        "            angle = math.pi / 2\n",
        "        elif angle_type == '10':\n",
        "            angle = math.pi / 4\n",
        "        else:\n",
        "            angle = math.pi / 8\n",
        "\n",
        "        angle *= values[angle_index]\n",
        "\n",
        "        if gate_type == '000':\n",
        "            quantum_circuit.h(index_qubit)\n",
        "        elif gate_type == '001' and index_qubit < num_qubits - 1:\n",
        "            has_cnot = True\n",
        "            quantum_circuit.cnot(index_qubit, index_qubit+1)\n",
        "        elif gate_type == '011':\n",
        "            quantum_circuit.rx(angle, index_qubit)\n",
        "            angle_index = (angle_index+1)%num_dimensions\n",
        "        elif gate_type == '100':\n",
        "            quantum_circuit.rz(angle, index_qubit)\n",
        "            angle_index = (angle_index+1)%num_dimensions\n",
        "        elif gate_type == '111':\n",
        "            quantum_circuit.ry(angle, index_qubit)\n",
        "            angle_index = (angle_index+1)%num_dimensions\n",
        "\n",
        "\n",
        "    return [quantum_circuit.num_parameters == num_dimensions, has_cnot == False]"
      ]
    },
    {
      "cell_type": "code",
      "execution_count": 7,
      "metadata": {
        "cell_id": "82adc06c2a854a4e844c9fbe4627c803",
        "deepnote_cell_type": "code",
        "deepnote_to_be_reexecuted": false,
        "execution_millis": 8,
        "execution_start": 1658434758294,
        "source_hash": "38c4f5f3",
        "tags": [],
        "id": "XfVXWbND78Gg"
      },
      "outputs": [],
      "source": [
        "def calculate_sm(bitstring):\n",
        "    gate_lenght = 5\n",
        "    total_cnot = 0\n",
        "    total_local = 0\n",
        "    string_gates = [bitstring[i:i+gate_lenght] for i in range(0, len(bitstring), gate_lenght)]\n",
        "    for gate in string_gates:\n",
        "        if gate[0:3] in [\"000\", \"100\", \"011\", \"111\"]:\n",
        "            total_local+=1\n",
        "        if gate[0:3] in [\"001\"]:\n",
        "            total_cnot+=1\n",
        "\n",
        "    sm = (total_local+2*total_cnot)/(total_cnot+total_local)\n",
        "\n",
        "    return sm\n",
        "\n"
      ]
    },
    {
      "cell_type": "markdown",
      "metadata": {
        "cell_id": "cd999bbdddd9485093415917bee767b6",
        "deepnote_cell_height": 70,
        "deepnote_cell_type": "markdown",
        "tags": [],
        "id": "YAwVn-Uc78Gg"
      },
      "source": [
        "## QSVM using ZZfeature map\n"
      ]
    },
    {
      "cell_type": "code",
      "execution_count": 8,
      "metadata": {
        "cell_id": "7310432c7d2e4cf083432d11119e3076",
        "deepnote_cell_type": "code",
        "deepnote_to_be_reexecuted": false,
        "execution_millis": 2263,
        "execution_start": 1658434758314,
        "source_hash": "2d9c3386",
        "tags": [],
        "colab": {
          "base_uri": "https://localhost:8080/"
        },
        "id": "-Ihu14Mn78Gh",
        "outputId": "d16c1b88-7428-4d2e-b7a2-e0e2c144a54e"
      },
      "outputs": [
        {
          "output_type": "stream",
          "name": "stdout",
          "text": [
            "Callable kernel classification test score: 0.6052631578947368\n"
          ]
        }
      ],
      "source": [
        "n_dim=2\n",
        "zz_map = ZZFeatureMap(feature_dimension=n_dim, reps=3, entanglement='linear', insert_barriers=True)\n",
        "zz_kernel = QuantumKernel(feature_map=zz_map, quantum_instance=Aer.get_backend('statevector_simulator'))\n",
        "\n",
        "zzcb_svc = SVC(kernel=zz_kernel.evaluate)\n",
        "zzcb_svc.fit(sample_train, label_train)\n",
        "zzcb_score = zzcb_svc.score(sample_test, label_test)\n",
        "\n",
        "print(f'Callable kernel classification test score: {zzcb_score}')"
      ]
    },
    {
      "cell_type": "markdown",
      "metadata": {
        "cell_id": "7e351a58c53947a59c368c067d2d9ec0",
        "deepnote_cell_height": 130.8000030517578,
        "deepnote_cell_type": "markdown",
        "tags": [],
        "id": "wAkkZ_tG78Gh"
      },
      "source": [
        "## Base circuit (example)\n",
        "\n",
        "The following circuit represents an example of a circuit created from the bit string. The results of this circuit are modest since it hasn't been optimized."
      ]
    },
    {
      "cell_type": "code",
      "execution_count": 9,
      "metadata": {
        "cell_id": "e40d36c76ea74055b5500e7e60c46b12",
        "deepnote_cell_type": "code",
        "deepnote_to_be_reexecuted": false,
        "execution_millis": 2968,
        "execution_start": 1658434760524,
        "source_hash": "304aa895",
        "tags": [],
        "colab": {
          "base_uri": "https://localhost:8080/",
          "height": 191
        },
        "id": "9X1iYeTy78Gh",
        "outputId": "f01f55dd-565e-4cbd-8f39-07438937c7b7"
      },
      "outputs": [
        {
          "output_type": "execute_result",
          "data": {
            "text/plain": [
              "<Figure size 538.128x200.667 with 1 Axes>"
            ],
            "image/png": "[encoded data removed]"
          },
          "metadata": {},
          "execution_count": 9
        }
      ],
      "source": [
        "values = ParameterVector('x', length=2)\n",
        "\n",
        "qc = QuantumCircuit(2)\n",
        "\n",
        "bitstring = '1101110110110001010010000101010100000111101111011010001010101011110000001001111110100100101110101010'\n",
        "\n",
        "[success, has_cnot] = create_circuit_from_bit_string(qc, values, bitstring, 2)\n",
        "if success == False:\n",
        "    print('Not all parameters are used, so this feature map is unusable')\n",
        "\n",
        "qc.draw(output='mpl')"
      ]
    },
    {
      "cell_type": "code",
      "execution_count": 10,
      "metadata": {
        "cell_id": "508fa4a0d53442b6ad25ee4ebf5e6f86",
        "deepnote_cell_type": "code",
        "deepnote_to_be_reexecuted": false,
        "execution_millis": 1021,
        "execution_start": 1658434763224,
        "source_hash": "3e5784bd",
        "tags": [],
        "colab": {
          "base_uri": "https://localhost:8080/",
          "height": 266
        },
        "id": "wHGaClz578Gh",
        "outputId": "c8995ee0-ab71-4b67-d9ae-39b559c1bc17"
      },
      "outputs": [
        {
          "output_type": "execute_result",
          "data": {
            "text/plain": [
              "<Figure size 1792.29x284.278 with 1 Axes>"
            ],
            "image/png": "[encoded data removed]"
          },
          "metadata": {},
          "execution_count": 10
        }
      ],
      "source": [
        "gene_kernel = QuantumKernel(feature_map=qc, quantum_instance=Aer.get_backend('statevector_simulator'))\n",
        "gene_circuit = gene_kernel.construct_circuit(sample_train[0], sample_train[1])\n",
        "gene_circuit.decompose().decompose().draw(output='mpl')"
      ]
    },
    {
      "cell_type": "code",
      "execution_count": 11,
      "metadata": {
        "cell_id": "dc0aac87f72143fb96019d4d515b29a1",
        "deepnote_cell_type": "code",
        "deepnote_to_be_reexecuted": false,
        "execution_millis": 707,
        "execution_start": 1658434764268,
        "source_hash": "3f17dc29",
        "tags": [],
        "colab": {
          "base_uri": "https://localhost:8080/"
        },
        "id": "RzpFCW-N78Gh",
        "outputId": "3df870e7-8790-424a-95d8-c5c0823b1896"
      },
      "outputs": [
        {
          "output_type": "stream",
          "name": "stdout",
          "text": [
            "Callable kernel classification test score: 0.2894736842105263\n"
          ]
        }
      ],
      "source": [
        "svc = SVC(kernel=gene_kernel.evaluate)\n",
        "svc.fit(sample_train, label_train)\n",
        "qsvm_score = svc.score(sample_test, label_test)\n",
        "\n",
        "print(f'Callable kernel classification test score: {qsvm_score}')"
      ]
    },
    {
      "cell_type": "markdown",
      "metadata": {
        "cell_id": "5d270f8a5e134e7ca94d0d48512afc5f",
        "deepnote_cell_height": 70,
        "deepnote_cell_type": "markdown",
        "tags": [],
        "id": "kltwlyty78Gh"
      },
      "source": [
        "## Genetic Algorithm and Optimization"
      ]
    },
    {
      "cell_type": "markdown",
      "metadata": {
        "cell_id": "d720746862904129995c152660deed39",
        "deepnote_cell_height": 156,
        "deepnote_cell_type": "markdown",
        "tags": [],
        "id": "GHp7mlF878Gh"
      },
      "source": [
        "Cette section définit un problème d'optimisation à l'aide de la librairie Pymoo. Cette librairie nous permet de gérer automatiquement l'évolution du bit string correspondant au circuit quantique.\n",
        "\n",
        "On définit les paramètres d'optimisation du problème : f1 représente la précision et f2 représente la profondeur du circuit. En fait, f1 représente 1 moins la précision, car nous ne pouvons effectuer qu'une minimisation. Nous pouvons ainsi effectuer une minimisation sur f1 et f2 afin de trouver le circuit ayant la meilleure combinaison de profondeur et de précision."
      ]
    },
    {
      "cell_type": "code",
      "execution_count": 12,
      "metadata": {
        "cell_id": "3b358703d1a648d8bbab0bf5838bafab",
        "deepnote_cell_type": "code",
        "deepnote_to_be_reexecuted": false,
        "execution_millis": 37,
        "execution_start": 1658434764979,
        "source_hash": "801336c0",
        "tags": [],
        "id": "WErrBBpv78Gh"
      },
      "outputs": [],
      "source": [
        "import numpy as np\n",
        "from pymoo.util.misc import stack\n",
        "from pymoo.core.problem import ElementwiseProblem\n",
        "\n",
        "\n",
        "\n",
        "class ProblemIris(ElementwiseProblem):\n",
        "\n",
        "    def __init__(self, n_dim, n_qubit):\n",
        "        super().__init__(n_var=100,\n",
        "                         n_obj=2,\n",
        "                         n_constr=1,\n",
        "                         xl=np.zeros(100),\n",
        "                         xu=np.ones(100))\n",
        "\n",
        "        self.n_dim = n_dim\n",
        "        self.n_qubit =n_qubit\n",
        "\n",
        "    def _evaluate(self, x, out, *args, **kwargs):\n",
        "        def toStr(a):\n",
        "            return str(int(a == True))\n",
        "        bitstring = ''.join(map(toStr,x))\n",
        "\n",
        "        values = ParameterVector('x', length=self.n_dim)\n",
        "\n",
        "        qc = QuantumCircuit(self.n_qubit)\n",
        "\n",
        "        success = create_circuit_from_bit_string(qc, values, bitstring, self.n_dim)\n",
        "        if success[0]:\n",
        "            gene_kernel = QuantumKernel(feature_map=qc, quantum_instance=Aer.get_backend('statevector_simulator'))\n",
        "            svc = SVC(kernel=gene_kernel.evaluate)\n",
        "            svc.fit(sample_train, label_train)\n",
        "            score = svc.score(sample_gene, label_gene)\n",
        "\n",
        "            f1 = 1 - score\n",
        "        else:\n",
        "            f1 = 1\n",
        "\n",
        "        #print('%s : %f' % (bitstring, 1 - f1))\n",
        "\n",
        "        #sm = calculate_sm(bitstring)\n",
        "        f2 = qc.depth()\n",
        "\n",
        "        out[\"F\"] = anp.column_stack([f1, f2])\n",
        "        out[\"G\"] = anp.column_stack([f1 - 0.5])"
      ]
    },
    {
      "cell_type": "code",
      "execution_count": 13,
      "metadata": {
        "cell_id": "6f14f21800364bf8bf49c544636a3830",
        "deepnote_cell_type": "code",
        "deepnote_to_be_reexecuted": false,
        "execution_millis": 98066,
        "execution_start": 1658434765019,
        "owner_user_id": "f4eac8a8-5a60-489e-a8c8-b93b7135308a",
        "source_hash": "82a45dff",
        "tags": [],
        "colab": {
          "base_uri": "https://localhost:8080/",
          "height": 562
        },
        "id": "5r_BV1ne78Gh",
        "outputId": "c0705a01-2e32-4d24-8804-7f964296f95f"
      },
      "outputs": [
        {
          "output_type": "execute_result",
          "data": {
            "text/plain": [
              "<pymoo.visualization.scatter.Scatter at 0x7d98447dc5b0>"
            ]
          },
          "metadata": {},
          "execution_count": 13
        },
        {
          "output_type": "display_data",
          "data": {
            "text/plain": [
              "<Figure size 800x600 with 1 Axes>"
            ],
            "image/png": "[encoded data removed]"
          },
          "metadata": {}
        }
      ],
      "source": [
        "import numpy as np\n",
        "from pymoo.core.problem import Problem\n",
        "from pymoo.core.evaluator import set_cv\n",
        "from pymoo.util.termination.no_termination import NoTermination\n",
        "from pymoo.algorithms.moo.nsga2 import NSGA2\n",
        "from pymoo.factory import get_problem, get_sampling, get_crossover, get_mutation\n",
        "from pymoo.optimize import minimize\n",
        "from pymoo.visualization.scatter import Scatter\n",
        "import autograd.numpy as anp\n",
        "\n",
        "\n",
        "\n",
        "# Creation of the problem object\n",
        "problem = ProblemIris(n_dim,2)\n",
        "\n",
        "# Creation of the genetic algorithm\n",
        "algorithm = NSGA2(pop_size=10,\n",
        "                  sampling=get_sampling(\"bin_random\"),\n",
        "                  crossover=get_crossover(\"bin_two_point\"),\n",
        "                  mutation=get_mutation(\"bin_bitflip\"),\n",
        "                  eliminate_duplicates=True)\n",
        "\n",
        "res = minimize(problem,\n",
        "               algorithm,\n",
        "               ('n_gen', 10),\n",
        "               seed=1,\n",
        "               verbose=False)\n",
        "\n",
        "plot = Scatter()\n",
        "plot.add(res.F, facecolor=\"none\", edgecolor=\"red\")\n",
        "plot.show()\n"
      ]
    },
    {
      "cell_type": "markdown",
      "metadata": {
        "cell_id": "bad5d6cbef5544bbaaa6a70a8f16451f",
        "deepnote_cell_height": 119.60000610351562,
        "deepnote_cell_type": "markdown",
        "tags": [],
        "id": "SOrfQHpV78Gh"
      },
      "source": [
        "We can see here that some of the results are better in terms of depth, but not as good in terms of accuracy, while other results show the opposite. However, our best results are around 80% accuracy with a depth of about 3. This graph thus demonstrates the need to balance the required accuracy with depth depending on the use case."
      ]
    },
    {
      "cell_type": "markdown",
      "metadata": {
        "cell_id": "7352e8b84bba45289e5be6c4f10fbda5",
        "deepnote_cell_height": 54,
        "deepnote_cell_type": "markdown",
        "tags": [],
        "id": "_TgQMaax78Gi"
      },
      "source": [
        "#### Conversion of the best result into a bitstring"
      ]
    },
    {
      "cell_type": "code",
      "execution_count": 14,
      "metadata": {
        "cell_id": "a67192a11ffe4591b7fbc6bf532ea33f",
        "deepnote_cell_type": "code",
        "deepnote_to_be_reexecuted": false,
        "execution_millis": 16,
        "execution_start": 1658434863088,
        "source_hash": "267b6a37",
        "tags": [],
        "id": "SeqBRN3W78Gi",
        "outputId": "5a75d944-e95d-4a3f-8a85-a214be165aac",
        "colab": {
          "base_uri": "https://localhost:8080/"
        }
      },
      "outputs": [
        {
          "output_type": "stream",
          "name": "stdout",
          "text": [
            "Best solution : 1101110000110010000111110100110001010111101111010110001010101011110000000101111110100100101110101010\n"
          ]
        }
      ],
      "source": [
        "def toStr(a):\n",
        "    return str(int(a == True))\n",
        "index_best_solution = np.argmin(res.F[:,0])\n",
        "bestBitString = ''.join(map(toStr,res.X[index_best_solution]))\n",
        "print(\"Best solution : %s\" % bestBitString)"
      ]
    },
    {
      "cell_type": "markdown",
      "metadata": {
        "cell_id": "36b2d902cbe4448ab76f78118a6b6d7e",
        "deepnote_cell_height": 145.1999969482422,
        "deepnote_cell_type": "markdown",
        "tags": [],
        "id": "3wFr8C9Z78Gi"
      },
      "source": [
        "### Testing with data the algorithm has never seen\n",
        "\n",
        "We split the test data into two parts to ensure that the data in this test was not used during the optimization of the algorithm. By doing so, we demonstrated that the genetic algorithm produces quality results even when the data has never been seen before, which is necessary for real-world use cases."
      ]
    },
    {
      "cell_type": "code",
      "execution_count": 15,
      "metadata": {
        "cell_id": "5f7ac5e310634590914d1ada60c011b6",
        "deepnote_cell_type": "code",
        "deepnote_to_be_reexecuted": false,
        "execution_millis": 915,
        "execution_start": 1658434863107,
        "source_hash": "996359ec",
        "tags": [],
        "id": "fCiWja9478Gi",
        "outputId": "f525014a-f53c-4357-be32-b0df84268eda",
        "colab": {
          "base_uri": "https://localhost:8080/"
        }
      },
      "outputs": [
        {
          "output_type": "stream",
          "name": "stdout",
          "text": [
            "Result with new data : 0.7631578947368421\n"
          ]
        }
      ],
      "source": [
        "values = ParameterVector('x', length=2)\n",
        "\n",
        "qc = QuantumCircuit(2)\n",
        "\n",
        "(success, has_cnot) = create_circuit_from_bit_string(qc, values, bestBitString, 2)\n",
        "if success == False:\n",
        "    print('Not all parameters are used, so this feature map is unusable')\n",
        "\n",
        "gene_kernel = QuantumKernel(feature_map=qc, quantum_instance=Aer.get_backend('statevector_simulator'))\n",
        "gene_circuit = gene_kernel.construct_circuit(sample_train[0], sample_train[1])\n",
        "gene_circuit.decompose().decompose().draw(output='mpl')\n",
        "svc = SVC(kernel=gene_kernel.evaluate)\n",
        "svc.fit(sample_train, label_train)\n",
        "genetic_score = svc.score(sample_test, label_test)\n",
        "\n",
        "print(f'Result with new data : {genetic_score}')"
      ]
    },
    {
      "cell_type": "code",
      "execution_count": 16,
      "metadata": {
        "cell_id": "a3440b62b4e54a90b37b5db0d8df240a",
        "deepnote_cell_type": "code",
        "deepnote_to_be_reexecuted": false,
        "execution_millis": 1336,
        "execution_start": 1658435379116,
        "source_hash": "6b3b2956",
        "tags": [],
        "id": "W--f2sW078Gi",
        "outputId": "1768a2d9-e2b7-4f42-fa53-3a548ad0931f",
        "colab": {
          "base_uri": "https://localhost:8080/",
          "height": 208
        }
      },
      "outputs": [
        {
          "output_type": "display_data",
          "data": {
            "text/plain": [
              "<Figure size 621.739x200.667 with 1 Axes>"
            ],
            "image/png": "[encoded data removed]"
          },
          "metadata": {}
        },
        {
          "output_type": "stream",
          "name": "stdout",
          "text": [
            "6\n"
          ]
        }
      ],
      "source": [
        "values = ParameterVector('x', length=2)\n",
        "\n",
        "qc = QuantumCircuit(2)\n",
        "\n",
        "bitstring = bestBitString\n",
        "\n",
        "[success, has_cnot] = create_circuit_from_bit_string(qc, values, bitstring, 2)\n",
        "if success == False:\n",
        "    print('Not all parameters are used, so this feature map is unusable')\n",
        "\n",
        "display(qc.draw(output='mpl'))\n",
        "print(qc.depth())"
      ]
    },
    {
      "cell_type": "markdown",
      "metadata": {
        "cell_id": "4ba737c879864caaa3dd7e27dd4e5934",
        "deepnote_cell_height": 70,
        "deepnote_cell_type": "markdown",
        "tags": [],
        "id": "oUMetI_078Gi"
      },
      "source": [
        "## Comparison with the classical versions"
      ]
    },
    {
      "cell_type": "code",
      "execution_count": 17,
      "metadata": {
        "cell_id": "0bb7e662643542c5be7739bf3c49ce45",
        "deepnote_cell_type": "code",
        "deepnote_to_be_reexecuted": false,
        "execution_millis": 39,
        "execution_start": 1658434864534,
        "source_hash": "131a38e7",
        "tags": [],
        "id": "4Uh68D5r78Gi"
      },
      "outputs": [],
      "source": [
        "rbf = SVC(kernel='rbf', gamma=0.5, C=0.1).fit(sample_train, label_train)\n",
        "poly = SVC(kernel='poly', degree=3, C=1).fit(sample_train, label_train)\n",
        "qsv = SVC(kernel='poly', degree=3, C=1).fit(sample_train, label_train)"
      ]
    },
    {
      "cell_type": "code",
      "execution_count": 18,
      "metadata": {
        "cell_id": "fc2e9936e3f14b628be294bf873ca1ce",
        "deepnote_cell_type": "code",
        "deepnote_to_be_reexecuted": false,
        "execution_millis": 10,
        "execution_start": 1658434864577,
        "source_hash": "fa1bc1f6",
        "tags": [],
        "id": "Ujzcwumg78Gi"
      },
      "outputs": [],
      "source": [
        "poly_pred = poly.predict(sample_test)\n",
        "rbf_pred = rbf.predict(sample_test)"
      ]
    },
    {
      "cell_type": "code",
      "execution_count": 19,
      "metadata": {
        "cell_id": "d0a6e89b9c6e4a7b945e443664cf684e",
        "deepnote_cell_type": "code",
        "deepnote_to_be_reexecuted": false,
        "execution_millis": 19,
        "execution_start": 1658434864594,
        "source_hash": "727a5280",
        "tags": [],
        "id": "5ExyLrE778Gi",
        "outputId": "d81ab5a2-f281-4414-86a3-f3f3e19ebb15",
        "colab": {
          "base_uri": "https://localhost:8080/"
        }
      },
      "outputs": [
        {
          "output_type": "stream",
          "name": "stdout",
          "text": [
            "Accuracy (Polynomial Kernel):  73.68\n",
            "F1 (Polynomial Kernel):  71.93\n",
            "Accuracy (RBF Kernel):  63.16\n",
            "F1 (RBF Kernel):  51.14\n",
            "QSVM with ZZ :  60.53\n",
            "QSVM with non-optimized genetic algo :  28.95\n",
            "QSVM with optimized genetic algo :  76.32\n"
          ]
        }
      ],
      "source": [
        "poly_accuracy = accuracy_score(label_test, poly_pred)\n",
        "poly_f1 = f1_score(label_test, poly_pred, average='weighted')\n",
        "rbf_accuracy = accuracy_score(label_test, rbf_pred)\n",
        "rbf_f1 = f1_score(label_test, rbf_pred, average='weighted')\n",
        "print('Accuracy (Polynomial Kernel): ', \"%.2f\" % (poly_accuracy*100))\n",
        "print('F1 (Polynomial Kernel): ', \"%.2f\" % (poly_f1*100))\n",
        "print('Accuracy (RBF Kernel): ', \"%.2f\" % (rbf_accuracy*100))\n",
        "print('F1 (RBF Kernel): ', \"%.2f\" % (rbf_f1*100))\n",
        "print('QSVM with ZZ : ', \"%.2f\" % (zzcb_score*100))\n",
        "print('QSVM with non-optimized genetic algo : ', \"%.2f\" % (qsvm_score*100))\n",
        "print('QSVM with optimized genetic algo : ', \"%.2f\" % (genetic_score*100))\n"
      ]
    },
    {
      "cell_type": "markdown",
      "metadata": {
        "cell_id": "585dcfa3a07e4333a9f190171e6e7226",
        "deepnote_cell_height": 74.80000305175781,
        "deepnote_cell_type": "markdown",
        "tags": [],
        "id": "-wApTIyR78Gi"
      },
      "source": [
        "When comparing with classical algorithms, we see that the genetic algorithm manages to produce better results, which is very promising. Moreover, the optimization part greatly improves accuracy."
      ]
    },
    {
      "cell_type": "markdown",
      "metadata": {
        "cell_id": "3ae4b97d5020475d861da49704ae8633",
        "deepnote_cell_height": 130.8000030517578,
        "deepnote_cell_type": "markdown",
        "tags": [],
        "id": "VKR8-43f78Gi"
      },
      "source": [
        "## Data Compression\n",
        "\n",
        "With the genetic algorithm, it's also possible to reduce the number of qubits needed for dimension encoding. The following cells are dedicated to this optimization.\n"
      ]
    },
    {
      "cell_type": "code",
      "execution_count": 20,
      "metadata": {
        "cell_id": "322f182c4c6747cc91213bf08e1f7dc8",
        "deepnote_cell_type": "code",
        "deepnote_to_be_reexecuted": false,
        "execution_millis": 160657,
        "execution_start": 1658435163562,
        "source_hash": "9d52444b",
        "tags": [],
        "id": "or8W5aVw78Gi",
        "outputId": "381ac749-9656-43ef-95ba-cf898dabb8c9",
        "colab": {
          "base_uri": "https://localhost:8080/"
        }
      },
      "outputs": [
        {
          "output_type": "stream",
          "name": "stdout",
          "text": [
            "Best solution : 0000110000101110100111101000001001101010100100110010111101100000111111110100111000011000000001111101\n",
            "Result with new data : 0.9473684210526315\n"
          ]
        }
      ],
      "source": [
        "# Number of dimensions used\n",
        "n_dim = 4\n",
        "\n",
        "# The ratio must be equal to 1.\n",
        "train_size=0.5\n",
        "gene_size = 0.25\n",
        "test_size = 0.25\n",
        "\n",
        "iris = datasets.load_iris()\n",
        "X = iris.data[:, :n_dim]\n",
        "y = iris.target\n",
        "# Do not train the genetic model with all the test data; keep some to validate later that the found feature map works for unseen data.\n",
        "sample_train, sample_temp, label_train, label_temp = model_selection.train_test_split(X, y, train_size=train_size, test_size=1-train_size, random_state=110)\n",
        "sample_gene, sample_test, label_gene, label_test = model_selection.train_test_split(sample_temp, label_temp, train_size=gene_size/(gene_size+test_size), test_size=test_size/(gene_size+test_size), random_state=110)\n",
        "\n",
        "# Normalisations\n",
        "std_scale = StandardScaler().fit(sample_train)\n",
        "sample_train = std_scale.transform(sample_train)\n",
        "sample_gene = std_scale.transform(sample_gene)\n",
        "sample_test = std_scale.transform(sample_test)\n",
        "\n",
        "# Size adjustment\n",
        "samples = np.append(sample_train, sample_test, axis=0)\n",
        "minmax_scale = MinMaxScaler((-1, 1)).fit(samples)\n",
        "sample_train = minmax_scale.transform(sample_train)\n",
        "sample_gene = minmax_scale.transform(sample_gene)\n",
        "sample_test = minmax_scale.transform(sample_test)\n",
        "\n",
        "# Creation of the problem object\n",
        "problem = ProblemIris(n_dim,2)\n",
        "\n",
        "# Creation of the genetic algorithm according to our problem.\n",
        "algorithm = NSGA2(pop_size=10,\n",
        "                sampling=get_sampling(\"bin_random\"),\n",
        "                crossover=get_crossover(\"bin_two_point\"),\n",
        "                mutation=get_mutation(\"bin_bitflip\"),\n",
        "                eliminate_duplicates=True)\n",
        "\n",
        "res = minimize(problem,\n",
        "            algorithm,\n",
        "            ('n_gen', 10),\n",
        "            seed=1,\n",
        "            verbose=False)\n",
        "\n",
        "def toStr(a):\n",
        "    return str(int(a == True))\n",
        "index_best_solution = np.argmin(res.F[:,0])\n",
        "bestBitString = ''.join(map(toStr,res.X[index_best_solution]))\n",
        "print(\"Best solution : %s\" % bestBitString)\n",
        "\n",
        "values = ParameterVector('x', length=n_dim)\n",
        "\n",
        "qc = QuantumCircuit(2)\n",
        "\n",
        "(success, has_cnot) = create_circuit_from_bit_string(qc, values, bestBitString, n_dim)\n",
        "if success == False:\n",
        "    print('Not all parameters are used, so this feature map is unusable')\n",
        "\n",
        "gene_kernel = QuantumKernel(feature_map=qc, quantum_instance=Aer.get_backend('statevector_simulator'))\n",
        "gene_circuit = gene_kernel.construct_circuit(sample_train[0], sample_train[1])\n",
        "gene_circuit.decompose().decompose().draw(output='mpl')\n",
        "svc = SVC(kernel=gene_kernel.evaluate)\n",
        "svc.fit(sample_train, label_train)\n",
        "genetic_score = svc.score(sample_test, label_test)\n",
        "\n",
        "print(f'Result with new data : {genetic_score}')\n"
      ]
    },
    {
      "cell_type": "markdown",
      "metadata": {
        "cell_id": "187d68630e7c4c08af5e6a525eff6957",
        "deepnote_cell_height": 97.19999694824219,
        "deepnote_cell_type": "markdown",
        "tags": [],
        "id": "Q9C0_Lfv78Gi"
      },
      "source": [
        "As we can see, it's possible to achieve better accuracy when we encode more dimensions. Unlike the classical \"feature map\", we didn't need more qubits to increase the number of dimensions. The circuit converges quickly, and the maximum depth of the circuit is 10 at most with 2 qubits."
      ]
    },
    {
      "cell_type": "markdown",
      "metadata": {
        "cell_id": "b5c1acb8911e4998ae2546fdea9cecef",
        "deepnote_cell_height": 187.60000610351562,
        "deepnote_cell_type": "markdown",
        "owner_user_id": "576820f5-1554-48db-a947-250ed9a0fc56",
        "tags": [],
        "id": "LfvOq_Y378Gj"
      },
      "source": [
        "# Conclusion\n",
        "\n",
        "In conclusion, the automatic design of a \"feature map\" by a genetic algorithm is promising in the sense that it allows finding a suitable \"feature map\" for the problem. However, since this algorithm takes a lot of time during the training phase, it seems unlikely that it will be used in the future. It would be possible to use better optimization algorithms to perform this task. All in all, this is our version of the QSVM that performed the best."
      ]
    },
    {
      "cell_type": "markdown",
      "metadata": {
        "cell_id": "08a2315727e842569bf6f566b657872e",
        "deepnote_cell_height": 470.3999938964844,
        "deepnote_cell_type": "markdown",
        "tags": [],
        "id": "EPu_EGKt78Gj"
      },
      "source": [
        "# Bibliography\n",
        "\n",
        "Quantum support vector machine for big data classification, Patrick Rebentrost\n",
        "\n",
        "https://arxiv.org/abs/1307.0471\n",
        "\n",
        "\n",
        "Breast Cancer Detection with QSVM.\n",
        "\n",
        "https://github.com/PatrickHuembeli/QSVM-Introduction/blob/master/Quantum%20Support%20Vector%20Machines.ipynb\n",
        "\n",
        "\n",
        "Multi class SVM (SKlearn)\n",
        "\n",
        "https://www.baeldung.com/cs/svm-multiclass-classification#:~:text=Multiclass%20Classification%20Using%20SVM&text=It%20supports%20binary%20classification%20and,into%20multiple%20binary%20classification%20problems.\n",
        "\n",
        "\n",
        "Lab 3 (Qiskit Summer School 2021)\n",
        "\n",
        "https://github.com/jatin-47/QGSS-2021/blob/main/Lab%203/lab-3.ipynb\n",
        "\n",
        "\n",
        "Automatic design of quantum feature maps\n",
        "\n",
        "https://arxiv.org/abs/2105.12626\n"
      ]
    },
    {
      "cell_type": "markdown",
      "metadata": {
        "id": "CSDylhrA78Gj"
      },
      "source": [
        "Author : Simon Roy, Simon Gaudette, Arnaud Brouillet-gagnon"
      ]
    }
  ],
  "metadata": {
    "deepnote": {},
    "deepnote_execution_queue": [],
    "deepnote_notebook_id": "5ecf152a8f96491b9a5fd6814755e5b3",
    "language_info": {
      "name": "python"
    },
    "orig_nbformat": 2,
    "colab": {
      "provenance": [],
      "include_colab_link": true
    },
    "kernelspec": {
      "name": "python3",
      "display_name": "Python 3"
    }
  },
  "nbformat": 4,
  "nbformat_minor": 0
}